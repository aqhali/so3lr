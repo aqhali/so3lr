{
 "cells": [
  {
   "cell_type": "code",
   "execution_count": null,
   "id": "4fe2bca5-2d2a-400b-9815-49c10f3f9305",
   "metadata": {},
   "outputs": [],
   "source": [
    "from sup_gems import to_jax_md"
   ]
  }
 ],
 "metadata": {
  "kernelspec": {
   "display_name": "lrs-gems",
   "language": "python",
   "name": "lrs-gems"
  },
  "language_info": {
   "codemirror_mode": {
    "name": "ipython",
    "version": 3
   },
   "file_extension": ".py",
   "mimetype": "text/x-python",
   "name": "python",
   "nbconvert_exporter": "python",
   "pygments_lexer": "ipython3",
   "version": "3.9.19"
  }
 },
 "nbformat": 4,
 "nbformat_minor": 5
}
