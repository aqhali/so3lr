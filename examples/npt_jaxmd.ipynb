{
 "cells": [
  {
   "cell_type": "code",
   "execution_count": 1,
   "id": "13306023-d5b5-4c64-a54f-28749bcc7ee0",
   "metadata": {},
   "outputs": [
    {
     "name": "stderr",
     "output_type": "stream",
     "text": [
      "WARNING:absl:Tensorflow library not found, tensorflow.io.gfile operations will use native shim calls. GCS paths (i.e. 'gs://...') cannot be accessed.\n",
      "WARNING:root:For using TFDSDataLoader please install tensorflow.\n",
      "WARNING:root:For using TFDSDataLoader please install tensorflow.\n",
      "WARNING:root:For using TFDSDataLoader please install tensorflow_datasets.\n"
     ]
    }
   ],
   "source": [
    "import jax\n",
    "import jax.numpy as jnp\n",
    "import jax_md\n",
    "import numpy as np\n",
    "\n",
    "from ase.io import read\n",
    "from jax_md import units\n",
    "from typing import Dict\n",
    "\n",
    "from solar import to_jax_md\n",
    "from solar import SolarPotential\n",
    "\n",
    "import time"
   ]
  },
  {
   "cell_type": "code",
   "execution_count": 2,
   "id": "41f48f5d-2c9c-4c8f-8143-bb320a70253e",
   "metadata": {},
   "outputs": [],
   "source": [
    "# Some helper functions used throughout the example notebook.\n",
    "\n",
    "# Default nose hoover chain parameters.\n",
    "def default_nhc_kwargs(\n",
    "    tau: jnp.float32, \n",
    "    overrides: Dict\n",
    ") -> Dict:\n",
    "    \n",
    "    default_kwargs = {\n",
    "        'chain_length': 3, \n",
    "        'chain_steps': 2, \n",
    "        'sy_steps': 3,\n",
    "        'tau': tau\n",
    "    }\n",
    "    \n",
    "    if overrides is None:\n",
    "        return default_kwargs\n",
    "  \n",
    "    return {\n",
    "      k: overrides.get(k, default_kwargs[k]) for k in default_kwargs\n",
    "    }"
   ]
  },
  {
   "cell_type": "code",
   "execution_count": 3,
   "id": "fca27f5f-6f24-44d8-9c5c-446cabf8fb05",
   "metadata": {},
   "outputs": [],
   "source": [
    "# Read some molecular structure. Here we read the DHA structure from the test directory.\n",
    "path_to_xyz = '../tests/test_data/water_64.xyz'\n",
    "atoms = read(path_to_xyz, index=-1)\n",
    "atoms.wrap()\n",
    "\n",
    "# Repeat in each direction.\n",
    "atoms = atoms * [2, 2, 2]\n",
    "\n",
    "species = jnp.array(atoms.get_atomic_numbers())\n",
    "masses = jnp.array(atoms.get_masses())\n",
    "num_atoms = len(species)"
   ]
  },
  {
   "cell_type": "markdown",
   "id": "0f8e80ad-5101-41c0-b08f-6815b04c4c54",
   "metadata": {},
   "source": [
    "# Periodic Boundary Conditions\n",
    "\n",
    "In contrast to the `nvt_jaxmd.ipynb` example, here the simulations are performed within a box such that periodic boundary conditions (PBCs) need to be applied. The functions calculating the `displacement` vectors between atoms and the `shift` function for updating atomic positions during simulation can be created using `jax_md.space.periodic_general`. It takes the simulation `box` as input, which can be represented with a single scalar for a box with equal side lengths `L`, by a vector `[Lx, Ly, Lz]` for an orthorombic cell, or by an upper triangular matrix for a general triclinic cell. Check also the `jax_md` docs [here](https://jax-md.readthedocs.io/en/main/jax_md.space.html#jax_md.space.periodic_general). The water box loaded above has a cubic box with equal side length such that we can represent it in `jax_md` by a single scalar.\n",
    "\n",
    "Since we are running simulations in fractional coordinates, we need to project the positions on the hypercube with side length 1. For the cubic case this is easy and corresponds to just dividing by the length of the lattice vectors. This is also described [here](https://jax-md.readthedocs.io/en/main/jax_md.space.html#jax_md.space.periodic_general)."
   ]
  },
  {
   "cell_type": "code",
   "execution_count": 4,
   "id": "53004b9f-96b3-49bf-9a8a-47a46919b140",
   "metadata": {},
   "outputs": [
    {
     "name": "stdout",
     "output_type": "stream",
     "text": [
      "box = [24.8]\n"
     ]
    }
   ],
   "source": [
    "# it is important that scalar is array of dim = 1. Otherwise weird behavior of jax_md.simulate.npt_box(state) which returns\n",
    "# a 3x3 array when passed a jnp.array of ndim = 0. This leads to TracerConversionError. Maybe open issue on jax_md?\n",
    "\n",
    "box = jnp.array(\n",
    "    [\n",
    "        np.array(atoms.get_cell())[0, 0]\n",
    "    ]\n",
    ")  \n",
    "\n",
    "print('box =', box)\n",
    "\n",
    "fractional_coordinates = True\n",
    "displacement, shift = jax_md.space.periodic_general(box=box, fractional_coordinates=fractional_coordinates)\n",
    "\n",
    "positions_init = jnp.array(atoms.get_positions())\n",
    "if fractional_coordinates:\n",
    "    positions_init = positions_init / box"
   ]
  },
  {
   "cell_type": "markdown",
   "id": "89dafff9-b64c-46da-ac97-244332fbd5c8",
   "metadata": {},
   "source": [
    "# Prepare JAX-MD Energy Function\n",
    "\n",
    "JAX-MD is build around the energy function and the neighborlist. Since we have short- and long-range neighbors, we have two neighborlists compared to the standard case of only a single one. We use the convenience interface `to_jax_md` provided within this repository, which returns the SO3LR energy function as well as the two neighborlists. It takes as input the `SolarPotential` itself, as well as a displacement function which determines how update the atomic positions (see above)."
   ]
  },
  {
   "cell_type": "code",
   "execution_count": 5,
   "id": "95ef5907-e38b-46ee-86ce-55f38b140fe8",
   "metadata": {},
   "outputs": [
    {
     "name": "stderr",
     "output_type": "stream",
     "text": [
      "WARNING:absl:CheckpointMetadata file does not exist: /Users/thorbenfrank/Documents/git/solar/solar/params/checkpoints/ckpt_5050000/_CHECKPOINT_METADATA\n",
      "WARNING:absl:`StandardCheckpointHandler` expects a target tree to be provided for restore. Not doing so is generally UNSAFE unless you know the present topology to be the same one as the checkpoint was saved under.\n"
     ]
    },
    {
     "name": "stdout",
     "output_type": "stream",
     "text": [
      "jax-md partition: cell_size=0.18145161867141724, cl.id_buffer.size=2875, N=1536, cl.did_buffer_overflow=False\n"
     ]
    }
   ],
   "source": [
    "neighbor_fn, neighbor_fn_lr, energy_fn = to_jax_md(\n",
    "    potential=SolarPotential(),\n",
    "    displacement_or_metric=displacement,\n",
    "    box_size=box,\n",
    "    species=species,\n",
    "    capacity_multiplier=1.25,\n",
    "    buffer_size_multiplier_sr=1.25,\n",
    "    buffer_size_multiplier_lr=1.25,\n",
    "    minimum_cell_size_multiplier_sr=1.0,\n",
    "    disable_cell_list=False,\n",
    "    fractional_coordinates=fractional_coordinates\n",
    ")\n",
    "\n",
    "# Energy function.\n",
    "energy_fn = jax.jit(energy_fn)\n",
    "force_fn = jax.jit(jax_md.quantity.force(energy_fn))\n",
    "\n",
    "# Initialize the short and long-range neighbor lists.\n",
    "nbrs = neighbor_fn.allocate(\n",
    "    positions_init,\n",
    "    box=box\n",
    ")\n",
    "nbrs_lr = neighbor_fn_lr.allocate(\n",
    "    positions_init,\n",
    "    box=box\n",
    ")"
   ]
  },
  {
   "cell_type": "code",
   "execution_count": 6,
   "id": "8166e4e3-5df9-4a2e-a00c-065c8b61be4f",
   "metadata": {},
   "outputs": [
    {
     "data": {
      "text/plain": [
       "Array(-4941.2207, dtype=float32)"
      ]
     },
     "execution_count": 6,
     "metadata": {},
     "output_type": "execute_result"
    }
   ],
   "source": [
    "# Check that the energy function is working.\n",
    "energy_fn(\n",
    "    positions_init, \n",
    "    neighbor=nbrs.idx, \n",
    "    neighbor_lr=nbrs_lr.idx, \n",
    "    box=box\n",
    ")"
   ]
  },
  {
   "cell_type": "markdown",
   "id": "7102e75f-3f9e-4ed0-b2a7-b1401e36ad38",
   "metadata": {},
   "source": [
    "# Structure Relaxation"
   ]
  },
  {
   "cell_type": "code",
   "execution_count": 27,
   "id": "5beed8eb-6d01-4736-ba14-e92bf3930c02",
   "metadata": {},
   "outputs": [
    {
     "name": "stdout",
     "output_type": "stream",
     "text": [
      "Step\tE\tFmax\n",
      "--------------------------\n",
      "jax-md partition: cell_size=0.18145161867141724, cl.id_buffer.size=2875, N=1536, cl.did_buffer_overflow=Traced<ShapedArray(bool[])>with<DynamicJaxprTrace(level=3/0)>\n",
      "0\t-5042.64\t1.23\n",
      "1\t-5081.91\t1.88\n",
      "2\t-5110.96\t0.55\n",
      "3\t-5123.87\t0.57\n",
      "4\t-5132.59\t0.53\n"
     ]
    }
   ],
   "source": [
    "# For repeated execution of cell, delete the fire_state first, otherwise jit in jupyter environment \n",
    "# can meddle with things.\n",
    "try:\n",
    "    del fire_state\n",
    "except Error:\n",
    "    pass\n",
    "\n",
    "min_cycles = 5\n",
    "min_steps = 10\n",
    "\n",
    "fire_init, fire_apply = jax_md.minimize.fire_descent(\n",
    "    energy_fn, \n",
    "    shift, \n",
    "    dt_start = 0.05, \n",
    "    dt_max = 0.1, \n",
    "    n_min = 2\n",
    ")\n",
    "\n",
    "fire_apply = jax.jit(fire_apply)\n",
    "fire_state = fire_init(\n",
    "    positions_init, \n",
    "    box=box, \n",
    "    neighbor=nbrs.idx,\n",
    "    neighbor_lr=nbrs_lr.idx\n",
    ")\n",
    "\n",
    "@jax.jit\n",
    "def step_fire_fn(i, fire_state):\n",
    "    \n",
    "    fire_state, nbrs, nbrs_lr = fire_state\n",
    "    \n",
    "    fire_state = fire_apply(\n",
    "        fire_state, \n",
    "        neighbor=nbrs.idx, \n",
    "        neighbor_lr=nbrs_lr.idx, \n",
    "        box=box\n",
    "    )\n",
    "    \n",
    "    nbrs = nbrs.update(\n",
    "        fire_state.position,\n",
    "        neighbor=nbrs.idx,\n",
    "        box=box\n",
    "    )\n",
    "    \n",
    "    nbrs_lr = nbrs_lr.update(\n",
    "        fire_state.position,\n",
    "        neighbor_lr=nbrs_lr.idx,\n",
    "        box=box\n",
    "    )\n",
    "    \n",
    "    return fire_state, nbrs, nbrs_lr\n",
    "\n",
    "print('Step\\tE\\tFmax')\n",
    "print('--------------------------')\n",
    "for i in range(min_cycles):\n",
    "    fire_state, nbrs, nbrs_lr = jax.lax.fori_loop(\n",
    "        0, \n",
    "        min_steps, \n",
    "        step_fire_fn, \n",
    "        (fire_state, nbrs, nbrs_lr)\n",
    "    )\n",
    "    \n",
    "    E = energy_fn(\n",
    "        fire_state.position, \n",
    "        neighbor=nbrs.idx, \n",
    "        neighbor_lr=nbrs_lr.idx,\n",
    "        box=box\n",
    "    )\n",
    "\n",
    "    F = force_fn(\n",
    "        fire_state.position, \n",
    "        neighbor=nbrs.idx, \n",
    "        neighbor_lr=nbrs_lr.idx,\n",
    "        box=box\n",
    "    )\n",
    "    \n",
    "    print('{}\\t{:.2f}\\t{:.2f}'.format(i, E, np.abs(F).max()))\n",
    "    "
   ]
  },
  {
   "cell_type": "markdown",
   "id": "a3a56f4d-6088-4c4e-bd95-5556ede90815",
   "metadata": {},
   "source": [
    "Print the delta between original and optimized positions for the first three atoms. The difference is in fractional coordinates. To go back to real space we can use `jax_md.space.transform`. Alternatively, one can use the `displacement` function returned by `jax_md.space.perdiodic_general` which always returns displacements in real space as it has information about if the input is in real or fractional coordinates."
   ]
  },
  {
   "cell_type": "code",
   "execution_count": 28,
   "id": "3c6d81e2-6eca-42e5-b2d8-0b68d8953c85",
   "metadata": {},
   "outputs": [
    {
     "name": "stdout",
     "output_type": "stream",
     "text": [
      "Difference in fractional coordinates: \n",
      "[[-0.0078468   0.0001581   0.00202413]\n",
      " [-0.0088468   0.00183146  0.01245631]\n",
      " [-0.00348818  0.00351053  0.00309914]]\n",
      "\n",
      "\n",
      "Difference in real coordinates using transform function: \n",
      "[[-0.19460106  0.00392097  0.05019855]\n",
      " [-0.2194004   0.04542017  0.30891657]\n",
      " [-0.08650684  0.08706188  0.07685852]]\n",
      "\n",
      "\n",
      "Difference in real coordinates from displacement function: \n",
      "[[-0.1946007   0.00392165  0.05019803]\n",
      " [-0.21940112  0.0454205   0.30891618]\n",
      " [-0.08650693  0.08706126  0.07685876]]\n"
     ]
    }
   ],
   "source": [
    "print('Difference in fractional coordinates: ')\n",
    "print((positions_init - fire_state.position)[:3])\n",
    "print('\\n')\n",
    "print('Difference in real coordinates using transform function: ')\n",
    "print((jax_md.space.transform(box, positions_init) - jax_md.space.transform(box, fire_state.position))[:3])\n",
    "print('\\n')\n",
    "print('Difference in real coordinates from displacement function: ')\n",
    "print((jax.vmap(displacement)(positions_init, fire_state.position))[:3])"
   ]
  },
  {
   "cell_type": "markdown",
   "id": "b7d40e05-eeda-4565-9fab-2b98c0f7523a",
   "metadata": {},
   "source": [
    "# Nose-Hoover Chain NPT simulations"
   ]
  },
  {
   "cell_type": "code",
   "execution_count": 39,
   "id": "0008c01b-dd71-480d-8d07-6ec684284d39",
   "metadata": {},
   "outputs": [
    {
     "name": "stderr",
     "output_type": "stream",
     "text": [
      "/Users/thorbenfrank/Documents/venvs/sup-gems/lib/python3.9/site-packages/jax/_src/numpy/lax_numpy.py:166: UserWarning: Explicitly requested dtype float64 requested in asarray is not available, and will be truncated to dtype float32. To enable more dtypes, set the jax_enable_x64 configuration option or the JAX_ENABLE_X64 shell environment variable. See https://github.com/google/jax#current-gotchas for more.\n",
      "  return asarray(x, dtype=self.dtype)\n"
     ]
    }
   ],
   "source": [
    "# Simulation parameters\n",
    "\n",
    "timestep = 0.0005  # Time step in ps\n",
    "npt_cycles = 25  # Number of Cycles in the NVT.\n",
    "npt_steps = 5  # Number of NVT steps per cylce. The total number of MD steps equals nvt_cylces * nvt_steps\n",
    "\n",
    "T_init = 300  # Initial temperature.\n",
    "pressure = 1.  # Target pressure. \n",
    "\n",
    "chain = 3  # Number of chains in the Nose-Hoover chain.\n",
    "chain_steps = 2  # Number of steps per chain.\n",
    "sy_steps = 3\n",
    "\n",
    "thermo = 100  # Thermostat value in the Nose-Hoover chain. \n",
    "baro = 1000  # Barostat value in the Nose-Hoover chain. \n",
    "\n",
    "# Dictionary with the NHC settings.\n",
    "new_nhc_kwargs = {\n",
    "    'chain_length': chain, \n",
    "    'chain_steps': chain_steps, \n",
    "    'sy_steps': sy_steps\n",
    "}\n",
    "\n",
    "# Convert to metal unit system.\n",
    "unit = units.metal_unit_system()\n",
    "\n",
    "timestep = timestep * unit['time']\n",
    "T_init = T_init * unit['temperature']\n",
    "\n",
    "rng_key = jax.random.PRNGKey(0)"
   ]
  },
  {
   "cell_type": "code",
   "execution_count": 40,
   "id": "1511d5ea-60b5-4bac-b355-c07f982baf91",
   "metadata": {},
   "outputs": [
    {
     "name": "stderr",
     "output_type": "stream",
     "text": [
      "/Users/thorbenfrank/Documents/venvs/sup-gems/lib/python3.9/site-packages/jax/_src/numpy/reductions.py:221: UserWarning: Explicitly requested dtype <class 'jax.numpy.float64'> requested in sum is not available, and will be truncated to dtype float32. To enable more dtypes, set the jax_enable_x64 configuration option or the JAX_ENABLE_X64 shell environment variable. See https://github.com/google/jax#current-gotchas for more.\n",
      "  return _reduction(a, \"sum\", np.sum, lax.add, 0, preproc=_cast_to_numeric,\n",
      "/Users/thorbenfrank/Documents/venvs/sup-gems/lib/python3.9/site-packages/jax/_src/numpy/reductions.py:221: UserWarning: Explicitly requested dtype <class 'jax.numpy.float64'> requested in sum is not available, and will be truncated to dtype float32. To enable more dtypes, set the jax_enable_x64 configuration option or the JAX_ENABLE_X64 shell environment variable. See https://github.com/google/jax#current-gotchas for more.\n",
      "  return _reduction(a, \"sum\", np.sum, lax.add, 0, preproc=_cast_to_numeric,\n"
     ]
    },
    {
     "name": "stdout",
     "output_type": "stream",
     "text": [
      "Step\tKE\tPE\tTot. Energy\tTemp.\tH\ttime/steps\tInvariant drifts (H_i - H_0 , H - H_{i-1}) [meV/atom/ps]\n",
      "-------------------------------------------------------------------------------------------------------------------------------------\n",
      "jax-md partition: cell_size=0.18145161867141724, cl.id_buffer.size=2875, N=1536, cl.did_buffer_overflow=Traced<ShapedArray(bool[])>with<DynamicJaxprTrace(level=3/0)>\n",
      "0\t42.20\t-5115.29\t-5073.087\t212.5\t-5048.314\t10.26\t108.72  ,  108.72\n",
      "5\t45.81\t-5119.14\t-5073.336\t230.7\t-5048.589\t2.51\t18.56  ,  -71.59\n",
      "10\t36.38\t-5109.44\t-5073.062\t183.2\t-5048.364\t2.53\t31.92  ,  58.62\n",
      "15\t41.94\t-5115.02\t-5073.080\t211.2\t-5048.548\t2.51\t11.98  ,  -47.81\n",
      "20\t35.01\t-5107.85\t-5072.839\t176.3\t-5048.478\t2.51\t13.22  ,  18.18\n",
      "25\t31.87\t-5104.49\t-5072.617\t160.5\t-5048.414\t2.58\t13.80  ,  16.66\n",
      "30\t39.49\t-5112.03\t-5072.544\t198.9\t-5048.551\t2.59\t6.72  ,  -35.73\n",
      "35\t39.53\t-5111.62\t-5072.090\t199.1\t-5048.416\t2.59\t10.28  ,  35.22\n",
      "40\t41.26\t-5113.25\t-5071.991\t207.8\t-5048.538\t2.54\t5.61  ,  -31.79\n",
      "45\t35.43\t-5107.17\t-5071.740\t178.5\t-5048.407\t2.53\t8.47  ,  34.21\n",
      "50\t40.60\t-5112.23\t-5071.633\t204.5\t-5048.488\t2.54\t5.77  ,  -21.24\n",
      "55\t43.22\t-5114.64\t-5071.417\t217.7\t-5048.495\t2.53\t5.14  ,  -1.78\n",
      "60\t39.58\t-5110.78\t-5071.197\t199.4\t-5048.428\t2.53\t6.09  ,  17.55\n",
      "65\t41.17\t-5112.31\t-5071.136\t207.4\t-5048.510\t2.59\t4.12  ,  -21.49\n",
      "70\t42.07\t-5112.89\t-5070.821\t211.9\t-5048.431\t2.52\t5.22  ,  20.60\n",
      "75\t47.53\t-5118.19\t-5070.663\t239.4\t-5048.528\t2.58\t3.32  ,  -25.18\n",
      "80\t43.09\t-5113.46\t-5070.370\t217.0\t-5048.441\t2.52\t4.45  ,  22.51\n",
      "85\t42.60\t-5112.75\t-5070.151\t214.6\t-5048.459\t2.52\t3.94  ,  -4.70\n",
      "90\t46.08\t-5115.97\t-5069.891\t232.1\t-5048.484\t2.53\t3.40  ,  -6.36\n",
      "95\t46.81\t-5116.35\t-5069.543\t235.8\t-5048.431\t2.52\t3.92  ,  13.86\n",
      "100\t47.31\t-5116.62\t-5069.312\t238.3\t-5048.489\t2.53\t3.02  ,  -15.13\n",
      "105\t44.49\t-5113.41\t-5068.925\t224.1\t-5048.405\t2.56\t3.87  ,  21.87\n",
      "110\t49.75\t-5118.43\t-5068.681\t250.6\t-5048.480\t2.58\t2.85  ,  -19.71\n",
      "115\t50.31\t-5118.61\t-5068.299\t253.4\t-5048.433\t2.51\t3.25  ,  12.46\n",
      "120\t48.73\t-5116.67\t-5067.944\t245.4\t-5048.421\t2.52\t3.24  ,  3.05\n",
      "Total_time:  378.60997915267944\n"
     ]
    }
   ],
   "source": [
    "# Choose Nose-Hoover thermostat.\n",
    "init_fn, apply_fn = jax_md.simulate.npt_nose_hoover(\n",
    "    energy_fn, \n",
    "    shift, \n",
    "    dt=timestep,\n",
    "    pressure=pressure, \n",
    "    kT=T_init,\n",
    "    barostat_kwargs=default_nhc_kwargs(baro * timestep, new_nhc_kwargs),\n",
    "    thermostat_kwargs=default_nhc_kwargs(thermo * timestep, new_nhc_kwargs)\n",
    ")\n",
    "\n",
    "apply_fn = jax.jit(apply_fn)\n",
    "init_fn = jax.jit(init_fn)\n",
    "\n",
    "# Initialize state using position and neigbhors structure relaxation.\n",
    "state = init_fn(\n",
    "    rng_key, \n",
    "    fire_state.position, \n",
    "    box=box, \n",
    "    neighbor=nbrs.idx, \n",
    "    neighbor_lr=nbrs_lr.idx,\n",
    "    kT=T_init,\n",
    "    mass=masses\n",
    ")\n",
    "\n",
    "@jax.jit\n",
    "def step_npt_fn(i, state):\n",
    "    state, nbrs, nbrs_lr, box = state\n",
    "    \n",
    "    state = apply_fn(\n",
    "        state,\n",
    "        neighbor=nbrs.idx, \n",
    "        neighbor_lr=nbrs_lr.idx, \n",
    "        kT=T_init,\n",
    "        pressure=pressure\n",
    "    )\n",
    "    \n",
    "    box = jax_md.simulate.npt_box(state)\n",
    "    \n",
    "    nbrs = nbrs.update(\n",
    "        state.position, \n",
    "        neighbor=nbrs.idx, \n",
    "        box=box\n",
    "    )\n",
    "    \n",
    "    nbrs_lr = nbrs_lr.update(\n",
    "        state.position,\n",
    "        neighbor_lr=nbrs_lr.idx,\n",
    "        box=box\n",
    "    )\n",
    "    \n",
    "    return state, nbrs, nbrs_lr, box\n",
    "\n",
    "# Track total time and step times averaged over cycle.\n",
    "total_time = time.time()\n",
    "\n",
    "positions_md = []\n",
    "\n",
    "print('Step\\tKE\\tPE\\tTot. Energy\\tTemp.\\tH\\ttime/steps\\tInvariant drifts (H_i - H_0 , H - H_{i-1}) [meV/atom/ps]')\n",
    "print('-------------------------------------------------------------------------------------------------------------------------------------')\n",
    "for i in range(npt_cycles):\n",
    "\n",
    "    if i == 0:\n",
    "        initial_H_0 = jax_md.simulate.npt_nose_hoover_invariant(\n",
    "            energy_fn, \n",
    "            state, \n",
    "            pressure=pressure,\n",
    "            kT=T_init,\n",
    "            neighbor=nbrs.idx, \n",
    "            neighbor_lr=nbrs_lr.idx\n",
    "        )\n",
    "    \n",
    "    # Calculate initial total energy\n",
    "    initial_H = jax_md.simulate.npt_nose_hoover_invariant(\n",
    "        energy_fn, \n",
    "        state, \n",
    "        pressure=pressure,\n",
    "        kT=T_init,\n",
    "        neighbor=nbrs.idx,\n",
    "        neighbor_lr=nbrs_lr.idx\n",
    "    )\n",
    "\n",
    "    old_time = time.time()\n",
    "    \n",
    "    # Do `npt_steps` NPT steps.\n",
    "    new_state, nbrs, nbrs_lr, new_box = jax.block_until_ready(\n",
    "        jax.lax.fori_loop(\n",
    "            0, \n",
    "            npt_steps, \n",
    "            step_npt_fn, \n",
    "            (state, nbrs, nbrs_lr, box)\n",
    "        )\n",
    "    )\n",
    "    \n",
    "    new_time = time.time()\n",
    "    \n",
    "    # Check for overflor of both sr and lr neighbors.\n",
    "    if nbrs.did_buffer_overflow:\n",
    "        print('Neighbor list overflowed, reallocating.')\n",
    "        nbrs = neighbor_fn.allocate(state.position, box = box)\n",
    "        if nbrs_lr.did_buffer_overflow:\n",
    "            print('Long-range neighbor list also overflowed, reallocating.')\n",
    "            nbrs_lr = neighbor_fn_lr.allocate(state.position, box = box)\n",
    "    elif nbrs_lr.did_buffer_overflow:\n",
    "        print('Long-range neighbor list overflowed, reallocating.')\n",
    "        nbrs_lr = neighbor_fn_lr.allocate(state.position, box = box)\n",
    "    else:\n",
    "        state = new_state\n",
    "        box = new_box\n",
    "\n",
    "    # Calculate some quantities for printing\n",
    "    KE = jax_md.quantity.kinetic_energy(\n",
    "        momentum=state.momentum,\n",
    "        mass=state.mass\n",
    "    )\n",
    "    \n",
    "    PE = energy_fn(\n",
    "        state.position,\n",
    "        neighbor=nbrs.idx,\n",
    "        neighbor_lr=nbrs_lr.idx, \n",
    "        box=box\n",
    "    )\n",
    "    \n",
    "    T = jax_md.quantity.temperature(\n",
    "        momentum=state.momentum,\n",
    "        mass = state.mass\n",
    "    ) / unit['temperature']\n",
    "    \n",
    "    # Calculate initial total energy\n",
    "    H = jax_md.simulate.npt_nose_hoover_invariant(\n",
    "        energy_fn,\n",
    "        state,\n",
    "        pressure=pressure,\n",
    "        kT=T_init,\n",
    "        neighbor=nbrs.idx,\n",
    "        neighbor_lr=nbrs_lr.idx\n",
    "    )\n",
    "\n",
    "    energy_drift_h = (H - initial_H) * 1000 / (timestep / unit['time'] * npt_steps * num_atoms)\n",
    "    energy_drift_h_0 = (H - initial_H_0) * 1000 / (timestep / unit['time'] * npt_steps * (i + 1) * num_atoms)\n",
    "    \n",
    "    positions_md.append(np.array(state.position))\n",
    "    \n",
    "    print(\n",
    "        f'{i*npt_steps}\\t{KE:.2f}\\t{PE:.2f}\\t{KE+PE:.3f}\\t{T:.1f}\\t{H:.3f}\\t{(new_time - old_time) / npt_steps:.2f}\\t{energy_drift_h_0:.2f}  ,  {energy_drift_h:.2f}'\n",
    "    )\n",
    "\n",
    "print('Total_time: ', time.time() - total_time)\n",
    "\n",
    "# Clear all caches\n",
    "jax.clear_caches()"
   ]
  },
  {
   "cell_type": "markdown",
   "id": "30a067db-f18e-43a3-bc13-584b3e58066b",
   "metadata": {},
   "source": [
    "# Visualization and IO\n",
    "\n",
    "For now, we concatenated the positions to a simple python list `positions_md`. This allows to directly visualize the trajectory and write the frames to `xyz` after the simulation. However, for production runs it might be neccessary to save the frames (and potentially other information) along the way. For large structures, using `ase.io.write` can be very very slow and reduce the simulation time by sevaral order of magnitudes. To learn how to efficiently write frames and other statistics during simulation, check out the `production_run.ipynb` example notebooks. It uses `.hdf5` files to efficiently perform save operations."
   ]
  },
  {
   "cell_type": "code",
   "execution_count": 45,
   "id": "03148be2-8b2b-4707-8e01-9b1001489a36",
   "metadata": {},
   "outputs": [
    {
     "data": {
      "application/vnd.jupyter.widget-view+json": {
       "model_id": "ca8c9a6030804d74bd1cd124de933412",
       "version_major": 2,
       "version_minor": 0
      },
      "text/plain": [
       "NGLWidget(max_frame=24)"
      ]
     },
     "metadata": {},
     "output_type": "display_data"
    }
   ],
   "source": [
    "# If you want to do visualization in the notebook, install nglview by doing `pip install nglview` in your virtualenv\n",
    "import nglview as nv\n",
    "from ase import Atoms\n",
    "\n",
    "atoms_traj = []\n",
    "for positions in positions_md:\n",
    "    atoms_traj.append(\n",
    "        Atoms(\n",
    "            numbers=np.array(species), \n",
    "            positions=np.array(jax_md.space.transform(box=box, R=positions))  # transform back from fractional coordinates\n",
    "        ),\n",
    "    )\n",
    "\n",
    "nv.show_asetraj(atoms_traj)"
   ]
  },
  {
   "cell_type": "code",
   "execution_count": 46,
   "id": "87c6cea4-eec1-4c3f-a554-5afe00c72109",
   "metadata": {},
   "outputs": [],
   "source": [
    "# Save the frames to xyz.\n",
    "from ase.io import write\n",
    "\n",
    "for frame in atoms_traj:\n",
    "    write( \n",
    "        'npt_water_md_trajectory.xyz',\n",
    "        frame,\n",
    "        append=True\n",
    "    )"
   ]
  }
 ],
 "metadata": {
  "kernelspec": {
   "display_name": "sup-gems",
   "language": "python",
   "name": "sup-gems"
  },
  "language_info": {
   "codemirror_mode": {
    "name": "ipython",
    "version": 3
   },
   "file_extension": ".py",
   "mimetype": "text/x-python",
   "name": "python",
   "nbconvert_exporter": "python",
   "pygments_lexer": "ipython3",
   "version": "3.9.19"
  }
 },
 "nbformat": 4,
 "nbformat_minor": 5
}
